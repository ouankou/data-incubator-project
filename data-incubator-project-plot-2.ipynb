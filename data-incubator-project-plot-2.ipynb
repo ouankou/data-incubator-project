{
 "cells": [
  {
   "cell_type": "markdown",
   "metadata": {},
   "source": [
    "# Data Incubator Project Plot 2\n",
    "\n",
    "Anjia Wang\n",
    "\n",
    "Plot 2 mainly introduces the feature that finds out more similar papers among the reading list. It applies TF-IDF\n",
    "and PCA techniques to plot all papers in graph for clustering. The result locates near the bottom of this document.\n",
    "\n",
    "Currently it only analyzes the reading list as an example. In the future, fuzzy c means clustering and parallel computing (CPU or GPU) will be implemented to calculate the whole literature dataset. And the result will be stored in MySQL database for efficiency. Every three months or half year, the database is recalculated after adding new papers. During this period, any new paper will be determined by keywords and fuzzy clustering technique to find the most related papers."
   ]
  },
  {
   "cell_type": "code",
   "execution_count": 1,
   "metadata": {},
   "outputs": [],
   "source": [
    "import math, pandas\n",
    "import numpy as np\n",
    "from sklearn.feature_extraction.text import CountVectorizer, TfidfVectorizer, TfidfTransformer\n",
    "from sklearn.metrics.pairwise import cosine_similarity\n",
    "from sklearn.decomposition import PCA\n",
    "from sklearn.pipeline import Pipeline\n",
    "from matplotlib import pyplot as plt"
   ]
  },
  {
   "cell_type": "code",
   "execution_count": 2,
   "metadata": {},
   "outputs": [],
   "source": [
    "def loadTxt(filename):\n",
    "    f = open(filename, 'r')\n",
    "    lines = f.read().splitlines()\n",
    "    \n",
    "    data = {}\n",
    "    # data[i] = {id:-1, title:'', author:[], venue:'', year:-1, abstract:'', ref:[], 'cited':0, 'dis': {}}\n",
    "    # cited: how many times one is cited, how important it is.\n",
    "    # dis: the shortest distance between one and all others. Currently it isn't used.\n",
    "    \n",
    "    newLine = True\n",
    "    del(lines[0]) # remove irrelevant line, which is the total entry number.\n",
    "    for v in lines:\n",
    "        if (newLine):\n",
    "            entry = [-1, {'id':-1, 'title':'', 'author':[], 'venue':'', 'year':-1, 'ref':[], 'abstract':'', 'cited':[], 'dis':{}}]\n",
    "            newLine = False\n",
    "        if (v[0:2] == '#*'):\n",
    "            entry[1]['title'] = v[2:]\n",
    "        elif (len(v) > 6 and v[0:6] == '#index'):\n",
    "            entry[0] = int(v[6:])\n",
    "            entry[1]['id'] = int(v[6:])\n",
    "        elif (v[0:2] == '#@'):\n",
    "            for u in v[2:].split(','):\n",
    "                entry[1]['author'].append(u)\n",
    "        elif (v[0:2] == '#t'):\n",
    "            entry[1]['year'] = int(v[2:])\n",
    "        elif (v[0:2] == '#c'):\n",
    "            entry[1]['venue'] = v[2:]\n",
    "        elif (v[0:2] == '#%'):\n",
    "            entry[1]['ref'].append(int(v[2:]))\n",
    "        elif (v[0:2] == '#!'):\n",
    "            entry[1]['abstract'] = v[2:]\n",
    "        else:\n",
    "            if (entry[1]['abstract'] != ''): # remove\n",
    "                data[entry[0]] = entry[1] \n",
    "            newLine = True\n",
    "\n",
    "    return data"
   ]
  },
  {
   "cell_type": "code",
   "execution_count": 3,
   "metadata": {},
   "outputs": [],
   "source": [
    "def stopwords(filename):\n",
    "    f = open(filename, 'r')\n",
    "    lines = f.read().splitlines()\n",
    "    words = []\n",
    "    for v in lines:\n",
    "        words += v.split(',')\n",
    "    return set(words)"
   ]
  },
  {
   "cell_type": "code",
   "execution_count": 4,
   "metadata": {},
   "outputs": [],
   "source": [
    "def cleanData(data):\n",
    "    for v in data.values():\n",
    "        removed = []\n",
    "        for u in v['ref']:\n",
    "            if (u in data):\n",
    "                data[u]['cited'].append(v['id'])\n",
    "            else:\n",
    "                removed.append(u)\n",
    "        for u in removed:\n",
    "            v['ref'].remove(u)\n",
    "\n",
    "    return data"
   ]
  },
  {
   "cell_type": "code",
   "execution_count": 5,
   "metadata": {},
   "outputs": [],
   "source": [
    "# calculate the similarities\n",
    "def calcSim(data, words):\n",
    "    tfidf = TfidfVectorizer(stop_words=words)\n",
    "    \n",
    "    docs = [(v['id'], v['abstract']) for v in data.values()]\n",
    "    \n",
    "    pipeline = Pipeline([('vect', CountVectorizer()), ('tfidf', TfidfTransformer())])        \n",
    "    similarities = pipeline.fit_transform([v[1] for v in docs]).todense()\n",
    "\n",
    "    pca = PCA(n_components=2).fit(similarities)\n",
    "    result = pca.transform(similarities)\n",
    "    plt.scatter(result[:,0], result[:,1], c='b')\n",
    "    \n",
    "    for i in range (len(docs)):\n",
    "        plt.annotate(str(docs[i][0]), (result[i, 0], result[i, 1]))\n"
   ]
  },
  {
   "cell_type": "code",
   "execution_count": 6,
   "metadata": {},
   "outputs": [],
   "source": [
    "# get references\n",
    "def getRef(data, paper, output):\n",
    "    if (output):\n",
    "        print(data[paper]['title'])\n",
    "    refs = {}\n",
    "\n",
    "    for v in data[paper]['ref']:\n",
    "        if (output):\n",
    "            print('-------------------------------')\n",
    "            print(str(v) + ': ' + data[v]['title'])\n",
    "            print('Cited: ' + str(len(data[v]['cited'])))\n",
    "            print('*******************************')\n",
    "        refs[v] = [u for u in [w for w in data[v]['cited'] if len(data[w]['cited'])>10] if len(data[u]['cited'])>10]\n",
    "        if (output):\n",
    "            for u in data[v]['cited']:\n",
    "                print('        ' + str(u) + ': ' + data[u]['title'])\n",
    "                print('        Cited: ' + str(len(data[u]['cited'])))\n",
    "\n",
    "    return (paper, [v for v in data[paper]['ref'] if len(data[v]['cited'])>10], refs)"
   ]
  },
  {
   "cell_type": "code",
   "execution_count": 7,
   "metadata": {},
   "outputs": [],
   "source": [
    "def plot(data, refs):\n",
    "\n",
    "    allRef = []\n",
    "    for v in refs[1]:\n",
    "        allRef += refs[2][v]\n",
    "    allRef = list(set(allRef))\n",
    "    coord1 = {}\n",
    "    coord2 = {}\n",
    "\n",
    "    r = 10*len(refs[1])+5   #radius\n",
    "    n = len(refs[1]) #points to generate\n",
    "    cP = [\n",
    "        [r * math.cos(theta), r * math.sin(theta)]\n",
    "        for theta in (math.pi*2 * i/n for i in range(n))\n",
    "    ]\n",
    "\n",
    "    r2 = r + 10*len(allRef) + 10\n",
    "    n2 = len(allRef)\n",
    "    cP2 = [\n",
    "        [r2 * math.cos(theta), r2 * math.sin(theta)]\n",
    "        for theta in (math.pi*2 * i/n2 for i in range(n2))\n",
    "    ]\n",
    "\n",
    "    for i in range (n2):\n",
    "        coord2[allRef[i]] = (cP2[i][0], cP2[i][1])\n",
    "    for i in range (n):\n",
    "        coord1[refs[1][i]] = (cP[i][0], cP[i][1])\n",
    "    \n",
    "    for i in range (n):\n",
    "        cP[i].append(len(data[refs[1][i]]['cited'])+0.1)\n",
    "    for i in range (n2):\n",
    "        cP2[i].append(len(data[allRef[i]]['cited'])+0.1)\n",
    "\n",
    "\n",
    "    fig = plt.figure()\n",
    "    ax_data_plot = fig.add_subplot(111)\n",
    "\n",
    "    ax_data_plot.scatter([0], [0], color = 'r', label='1st refs')\n",
    "    plt.annotate(str(refs[0]), xy=(0,0), xycoords='data', xytext=(5, 0), textcoords='offset points')\n",
    "\n",
    "    ax_data_plot.scatter([x[0] for x in cP], [x[1] for x in cP], color='b', label='1st refs', s=[10*x[2] for x in cP], marker='o', edgecolors='none')\n",
    "    ax_data_plot.scatter([x[0] for x in cP2], [x[1] for x in cP2], color='g', label='2nd refs', s=[10*x[2] for x in cP2], marker='o', edgecolors='none')\n",
    "\n",
    "    for i in range (n):\n",
    "        plt.annotate('', xy=coord1[refs[1][i]], xycoords='data', xytext=(0, 0), textcoords='data', arrowprops={'arrowstyle':'->', 'color':'gray'})\n",
    "        plt.annotate(str(refs[1][i]), xy=coord1[refs[1][i]], xycoords='data', xytext=(10*np.sign(coord1[refs[1][i]][0]), 10*np.sign(coord1[refs[1][i]][1])), textcoords='offset points')\n",
    "\n",
    "    for v in refs[1]:\n",
    "        for u in refs[2][v]:\n",
    "            plt.annotate('', xy=coord1[v], xycoords='data', xytext=coord2[u], textcoords='data', arrowprops={'arrowstyle': '->', 'color':'gray'})\n",
    "            plt.annotate(str(u), xy=coord2[u], xycoords='data', xytext=(10*np.sign(coord2[u][0]), 10*np.sign(coord2[u][1])), textcoords='offset points')\n",
    "\n",
    "\n",
    "    plt.show()"
   ]
  },
  {
   "cell_type": "code",
   "execution_count": 8,
   "metadata": {},
   "outputs": [],
   "source": [
    "dataSet = loadTxt('outputacm.txt')"
   ]
  },
  {
   "cell_type": "code",
   "execution_count": 9,
   "metadata": {},
   "outputs": [],
   "source": [
    "stop = stopwords('common-english-words.txt')"
   ]
  },
  {
   "cell_type": "code",
   "execution_count": 10,
   "metadata": {},
   "outputs": [],
   "source": [
    "dataSet = cleanData(dataSet)"
   ]
  },
  {
   "cell_type": "code",
   "execution_count": 11,
   "metadata": {},
   "outputs": [],
   "source": [
    "testID = 628180"
   ]
  },
  {
   "cell_type": "code",
   "execution_count": 12,
   "metadata": {
    "scrolled": true
   },
   "outputs": [],
   "source": [
    "refResult = getRef(dataSet, testID, False)\n",
    "refGroup = []\n",
    "for v in refResult[2].values():\n",
    "    refGroup += v\n",
    "refGroup = {refResult[0]:dataSet[refResult[0]],  **{v:dataSet[v] for v in refResult[2]}, **{v:dataSet[v] for v in refGroup}}"
   ]
  },
  {
   "cell_type": "code",
   "execution_count": 13,
   "metadata": {},
   "outputs": [
    {
     "data": {
      "image/png": "[encoded data removed]",
      "text/plain": [
       "<matplotlib.figure.Figure at 0x7f89064744e0>"
      ]
     },
     "metadata": {},
     "output_type": "display_data"
    }
   ],
   "source": [
    "calcSim(refGroup, stop)"
   ]
  },
  {
   "cell_type": "markdown",
   "metadata": {},
   "source": [
    "The graph is generated based on principle component analysis of abstracts. The first two are used as coordinates to plot. It shows clearly the papers around the bottom left corner are more similar and they might need more attentions to read.\n",
    "The details of those papers can be obtained as plot 1.\n",
    "Combine these two features, one can quickly get a larger picture of the searching topic by the generated reading list."
   ]
  }
 ],
 "metadata": {
  "kernelspec": {
   "display_name": "Python 3",
   "language": "python",
   "name": "python3"
  },
  "language_info": {
   "codemirror_mode": {
    "name": "ipython",
    "version": 3
   },
   "file_extension": ".py",
   "mimetype": "text/x-python",
   "name": "python",
   "nbconvert_exporter": "python",
   "pygments_lexer": "ipython3",
   "version": "3.6.4"
  }
 },
 "nbformat": 4,
 "nbformat_minor": 2
}
